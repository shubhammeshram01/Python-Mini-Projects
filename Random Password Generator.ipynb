{
 "cells": [
  {
   "cell_type": "markdown",
   "id": "d1880a7c",
   "metadata": {},
   "source": [
    "### * To create password we need to have combination of digits, letters , punctuations so need to import string module\n",
    "\n",
    "### * And to have random password, need to import random module"
   ]
  },
  {
   "cell_type": "code",
   "execution_count": 1,
   "id": "e065e25b",
   "metadata": {},
   "outputs": [],
   "source": [
    "import random\n",
    "import string"
   ]
  },
  {
   "cell_type": "code",
   "execution_count": 13,
   "id": "be56df1f",
   "metadata": {},
   "outputs": [
    {
     "name": "stdout",
     "output_type": "stream",
     "text": [
      "abcdefghijklmnopqrstuvwxyzABCDEFGHIJKLMNOPQRSTUVWXYZ\n",
      "*******************************************************************************************************************************\n",
      "0123456789\n",
      "*******************************************************************************************************************************\n",
      "!\"#$%&'()*+,-./:;<=>?@[\\]^_`{|}~\n",
      "*******************************************************************************************************************************\n",
      "abcdefghijklmnopqrstuvwxyzABCDEFGHIJKLMNOPQRSTUVWXYZ0123456789!\"#$%&'()*+,-./:;<=>?@[\\]^_`{|}~\n",
      "\n",
      "Enter the number of passwords want : 10\n",
      "0 - mGlzvu7}g|\n",
      "1 - \"LtMKVyZUn\n",
      "2 - -G\\A5:I+H?\n",
      "3 - 1~lDBWY9uR\n",
      "4 - I`7eoAqj%\\\n",
      "5 - /4=uAz@7C1\n",
      "6 - hH3?*%;G8x\n",
      "7 - n3)Q_Oz9GT\n",
      "8 - m1GgzLJyPa\n",
      "9 - iGW?\"w&{6H\n"
     ]
    }
   ],
   "source": [
    "print(string.ascii_letters)\n",
    "print(\"*\"*127)\n",
    "print(string.digits)\n",
    "print(\"*\"*127)\n",
    "print(string.punctuation)\n",
    "print(\"*\"*127)\n",
    "\n",
    "combine = string.ascii_letters + string.digits + string.punctuation\n",
    "print(combine)        ## Combine will have all the digits, punctuations and letters...\n",
    "print()\n",
    "\n",
    "length = int(input(\"Enter the number of passwords want : \"))\n",
    "password = \"\"\n",
    "for i in range(length):\n",
    "    password = \"\".join(random.sample(combine , 10))  ## here (random.sample) takes 10 random characters from combine and that \n",
    "                                                    ## need to join together\n",
    "    print(f\"{i} - {password}\")"
   ]
  }
 ],
 "metadata": {
  "kernelspec": {
   "display_name": "Python 3 (ipykernel)",
   "language": "python",
   "name": "python3"
  },
  "language_info": {
   "codemirror_mode": {
    "name": "ipython",
    "version": 3
   },
   "file_extension": ".py",
   "mimetype": "text/x-python",
   "name": "python",
   "nbconvert_exporter": "python",
   "pygments_lexer": "ipython3",
   "version": "3.9.13"
  }
 },
 "nbformat": 4,
 "nbformat_minor": 5
}
